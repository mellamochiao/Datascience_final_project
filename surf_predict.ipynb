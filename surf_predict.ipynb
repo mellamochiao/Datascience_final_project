{
 "cells": [
  {
   "cell_type": "code",
   "execution_count": 23,
   "metadata": {},
   "outputs": [],
   "source": [
    "import xgboost as xgb\n",
    "from xgboost import XGBRegressor\n",
    "import numpy as np"
   ]
  },
  {
   "cell_type": "code",
   "execution_count": 30,
   "metadata": {},
   "outputs": [],
   "source": [
    "model_height = XGBRegressor()\n",
    "model_height.load_model(\"model_height.json\")\n",
    "\n",
    "model_period = XGBRegressor()\n",
    "model_period.load_model(\"model_period.json\")\n",
    "\n",
    "model_power = XGBRegressor()\n",
    "model_power.load_model(\"model_power.json\")"
   ]
  },
  {
   "cell_type": "code",
   "execution_count": 31,
   "metadata": {},
   "outputs": [
    {
     "name": "stdout",
     "output_type": "stream",
     "text": [
      "模型的特徵名稱: ['speed', 'direction', 'pressure', 'temperature', 'power', 'directionType_Offshore', 'directionType_Onshore']\n"
     ]
    }
   ],
   "source": [
    "\n",
    "# 驗證是否保留特徵名稱\n",
    "print(\"模型的特徵名稱:\", model_height.get_booster().feature_names)"
   ]
  },
  {
   "cell_type": "code",
   "execution_count": 26,
   "metadata": {},
   "outputs": [],
   "source": [
    "direction_mapping = {\n",
    "    'Cross-shore': [0, 0],  # Cross-shore 時，兩個特徵都為 0\n",
    "    'Offshore': [1, 0],     # Offshore 時，Offshore=1, Onshore=0\n",
    "    'Onshore': [0, 1]       # Onshore 時，Offshore=0, Onshore=1\n",
    "}\n",
    "\n",
    "def preprocess_input(input_data):\n",
    "    \"\"\"\n",
    "    將輸入數據進行 one-hot encoding，並返回處理後的數據\n",
    "    :param input_data: dict, 包含原始輸入數據\n",
    "    :return: dict, 包含 one-hot 編碼特徵的數據\n",
    "    \"\"\"\n",
    "    # One-hot encoding\n",
    "    direction_type = input_data['directionType']\n",
    "    direction_one_hot = direction_mapping.get(direction_type, [0, 0])  # 默認為 [0, 0]\n",
    "\n",
    "    # 將 one-hot 編碼加入輸入數據\n",
    "    input_data['directionType_Offshore'] = direction_one_hot[0]\n",
    "    input_data['directionType_Onshore'] = direction_one_hot[1]\n",
    "\n",
    "    # 刪除原始的 directionType\n",
    "    del input_data['directionType']\n",
    "\n",
    "    return input_data\n"
   ]
  },
  {
   "cell_type": "code",
   "execution_count": 35,
   "metadata": {},
   "outputs": [],
   "source": [
    "def predict_surf_conditions(input_data):\n",
    "    \"\"\"\n",
    "    預測浪況並判斷是否適合衝浪\n",
    "    :param input_data: dict, 包含原始輸入數據\n",
    "    :return: dict, 包括預測結果和提醒信息\n",
    "    \"\"\"\n",
    "    # 預處理輸入數據\n",
    "    input_data = preprocess_input(input_data)\n",
    "\n",
    "    # 特徵提取\n",
    "    height_features = np.array([[\n",
    "        input_data['speed'], input_data['direction'], input_data['pressure'],\n",
    "        input_data['temperature'], input_data['power'],\n",
    "        input_data['directionType_Offshore'], input_data['directionType_Onshore']\n",
    "    ]])\n",
    "\n",
    "    period_features = np.array([[\n",
    "        input_data['gust'], input_data['surf_min'], input_data['surf_max'],\n",
    "        input_data['speed'], input_data['direction'], input_data['pressure'],\n",
    "        input_data['temperature'], input_data['power'],\n",
    "        input_data['directionType_Offshore'], input_data['directionType_Onshore']\n",
    "    ]])\n",
    "\n",
    "    power_features = np.array([[\n",
    "        input_data['surf_min'], input_data['surf_max'], input_data['speed'],\n",
    "        input_data['direction'], input_data['pressure'], input_data['temperature'],\n",
    "        input_data['power'], input_data['directionType_Offshore'], input_data['directionType_Onshore']\n",
    "    ]])\n",
    "\n",
    "    # 預測結果\n",
    "    swell_height = model_height.predict(height_features)[0]\n",
    "    swell_period = model_period.predict(period_features)[0]\n",
    "    swell_power = model_power.predict(power_features)[0]\n",
    "\n",
    "\n",
    "    # 判斷是否適合衝浪\n",
    "    offshore = input_data['directionType_Offshore']  # 判斷是否為 Offshore 狀態\n",
    "    suitable_for_surfing = (\n",
    "        8 <= swell_period <= 16 or  # 週期 8-16 秒\n",
    "        (6 <= swell_period < 8 and offshore == 1)  # 週期 6-8 秒 且 Offshore\n",
    "    )\n",
    "\n",
    "    # 添加提醒信息\n",
    "    warnings = []\n",
    "    if input_data['speed'] > 19:\n",
    "        warnings.append(\"風大提醒：風速超過 19 m/s\")\n",
    "    if input_data['temperature'] < 20:\n",
    "        warnings.append(\"低溫提醒：溫度低於 20°C\")\n",
    "\n",
    "    return {\n",
    "        'swell_height': swell_height,\n",
    "        'swell_period': swell_period,\n",
    "        'swell_power': swell_power,\n",
    "        'suitable_for_surfing': suitable_for_surfing,\n",
    "        'warnings': warnings\n",
    "    }"
   ]
  },
  {
   "cell_type": "code",
   "execution_count": 40,
   "metadata": {},
   "outputs": [
    {
     "name": "stdout",
     "output_type": "stream",
     "text": [
      "預測Swell Height: 1.11 m\n",
      "預測Swell Period: 11.55 s\n",
      "預測Swell Power: 502.56\n",
      "----------------------------------------------\n",
      "適合衝浪！\n",
      "----------------------------------------------\n",
      "提醒事項：\n",
      " - 風大提醒：風速超過 19 m/s\n",
      " - 低溫提醒：溫度低於 20°C\n"
     ]
    }
   ],
   "source": [
    "input_data = {\n",
    "    'speed': 20.5,               # 風速\n",
    "    'direction': 270,            # 風向\n",
    "    'pressure': 1012,            # 氣壓\n",
    "    'temperature': 18,           # 溫度\n",
    "    'power': 2000,               # 功率\n",
    "    'directionType': 'Offshore', # 風向類別\n",
    "    'gust': 25.0,                # 陣風\n",
    "    'surf_min': 1.2,             # 最小浪高\n",
    "    'surf_max': 2.3              # 最大浪高\n",
    "}\n",
    "\n",
    "# 預測浪況\n",
    "result = predict_surf_conditions(input_data)\n",
    "\n",
    "# 顯示結果\n",
    "print(f\"預測Swell Height: {result['swell_height']:.2f} m\")\n",
    "print(f\"預測Swell Period: {result['swell_period']:.2f} s\")\n",
    "print(f\"預測Swell Power: {result['swell_power']:.2f}\")\n",
    "print('----------------------------------------------')\n",
    "if result['suitable_for_surfing']:\n",
    "    print(\"適合衝浪！\")\n",
    "else:\n",
    "    print(\"不適合衝浪！\")\n",
    "print('----------------------------------------------')\n",
    "if result['warnings']:\n",
    "    print(\"提醒事項：\")\n",
    "    for warning in result['warnings']:\n",
    "        print(f\" - {warning}\")"
   ]
  }
 ],
 "metadata": {
  "kernelspec": {
   "display_name": "Python 3",
   "language": "python",
   "name": "python3"
  },
  "language_info": {
   "codemirror_mode": {
    "name": "ipython",
    "version": 3
   },
   "file_extension": ".py",
   "mimetype": "text/x-python",
   "name": "python",
   "nbconvert_exporter": "python",
   "pygments_lexer": "ipython3",
   "version": "3.12.2"
  }
 },
 "nbformat": 4,
 "nbformat_minor": 2
}
