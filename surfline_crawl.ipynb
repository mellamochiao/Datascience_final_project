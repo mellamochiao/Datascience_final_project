{
 "cells": [
  {
   "cell_type": "code",
   "execution_count": 1,
   "id": "63c1c8c8-f2ea-480c-8a6b-4257a8a50acb",
   "metadata": {},
   "outputs": [
    {
     "name": "stdout",
     "output_type": "stream",
     "text": [
      "Collecting pysurfline\n",
      "  Downloading pysurfline-0.2.1-py3-none-any.whl.metadata (4.4 kB)\n",
      "Requirement already satisfied: matplotlib<4.0,>=3.8 in /Library/Frameworks/Python.framework/Versions/3.12/lib/python3.12/site-packages (from pysurfline) (3.9.2)\n",
      "Requirement already satisfied: pandas<3.0,>=2.1 in /Library/Frameworks/Python.framework/Versions/3.12/lib/python3.12/site-packages (from pysurfline) (2.2.3)\n",
      "Requirement already satisfied: requests<3.0.0,>=2.32.3 in /Library/Frameworks/Python.framework/Versions/3.12/lib/python3.12/site-packages (from pysurfline) (2.32.3)\n",
      "Requirement already satisfied: contourpy>=1.0.1 in /Library/Frameworks/Python.framework/Versions/3.12/lib/python3.12/site-packages (from matplotlib<4.0,>=3.8->pysurfline) (1.3.0)\n",
      "Requirement already satisfied: cycler>=0.10 in /Library/Frameworks/Python.framework/Versions/3.12/lib/python3.12/site-packages (from matplotlib<4.0,>=3.8->pysurfline) (0.12.1)\n",
      "Requirement already satisfied: fonttools>=4.22.0 in /Library/Frameworks/Python.framework/Versions/3.12/lib/python3.12/site-packages (from matplotlib<4.0,>=3.8->pysurfline) (4.53.1)\n",
      "Requirement already satisfied: kiwisolver>=1.3.1 in /Library/Frameworks/Python.framework/Versions/3.12/lib/python3.12/site-packages (from matplotlib<4.0,>=3.8->pysurfline) (1.4.7)\n",
      "Requirement already satisfied: numpy>=1.23 in /Library/Frameworks/Python.framework/Versions/3.12/lib/python3.12/site-packages (from matplotlib<4.0,>=3.8->pysurfline) (1.26.4)\n",
      "Requirement already satisfied: packaging>=20.0 in /Users/chiao/Library/Python/3.12/lib/python/site-packages (from matplotlib<4.0,>=3.8->pysurfline) (24.0)\n",
      "Requirement already satisfied: pillow>=8 in /Library/Frameworks/Python.framework/Versions/3.12/lib/python3.12/site-packages (from matplotlib<4.0,>=3.8->pysurfline) (10.4.0)\n",
      "Requirement already satisfied: pyparsing>=2.3.1 in /Library/Frameworks/Python.framework/Versions/3.12/lib/python3.12/site-packages (from matplotlib<4.0,>=3.8->pysurfline) (3.1.4)\n",
      "Requirement already satisfied: python-dateutil>=2.7 in /Users/chiao/Library/Python/3.12/lib/python/site-packages (from matplotlib<4.0,>=3.8->pysurfline) (2.9.0.post0)\n",
      "Requirement already satisfied: pytz>=2020.1 in /Library/Frameworks/Python.framework/Versions/3.12/lib/python3.12/site-packages (from pandas<3.0,>=2.1->pysurfline) (2024.2)\n",
      "Requirement already satisfied: tzdata>=2022.7 in /Library/Frameworks/Python.framework/Versions/3.12/lib/python3.12/site-packages (from pandas<3.0,>=2.1->pysurfline) (2024.2)\n",
      "Requirement already satisfied: charset-normalizer<4,>=2 in /Library/Frameworks/Python.framework/Versions/3.12/lib/python3.12/site-packages (from requests<3.0.0,>=2.32.3->pysurfline) (3.4.0)\n",
      "Requirement already satisfied: idna<4,>=2.5 in /Library/Frameworks/Python.framework/Versions/3.12/lib/python3.12/site-packages (from requests<3.0.0,>=2.32.3->pysurfline) (3.10)\n",
      "Requirement already satisfied: urllib3<3,>=1.21.1 in /Library/Frameworks/Python.framework/Versions/3.12/lib/python3.12/site-packages (from requests<3.0.0,>=2.32.3->pysurfline) (2.2.3)\n",
      "Requirement already satisfied: certifi>=2017.4.17 in /Library/Frameworks/Python.framework/Versions/3.12/lib/python3.12/site-packages (from requests<3.0.0,>=2.32.3->pysurfline) (2024.8.30)\n",
      "Requirement already satisfied: six>=1.5 in /Users/chiao/Library/Python/3.12/lib/python/site-packages (from python-dateutil>=2.7->matplotlib<4.0,>=3.8->pysurfline) (1.16.0)\n",
      "Downloading pysurfline-0.2.1-py3-none-any.whl (12 kB)\n",
      "Installing collected packages: pysurfline\n",
      "Successfully installed pysurfline-0.2.1\n",
      "Note: you may need to restart the kernel to use updated packages.\n"
     ]
    }
   ],
   "source": [
    "pip install pysurfline"
   ]
  },
  {
   "cell_type": "code",
   "execution_count": 2,
   "id": "da88a738-e940-4183-a06a-275c4063adde",
   "metadata": {},
   "outputs": [],
   "source": [
    "import requests\n",
    "import json\n",
    "from typing import List, Optional\n",
    "from dataclasses import dataclass\n",
    "from datetime import datetime\n",
    "import time"
   ]
  },
  {
   "cell_type": "code",
   "execution_count": 3,
   "id": "7ce8c9d4-2a12-405b-81a2-de6fb75f0f73",
   "metadata": {},
   "outputs": [],
   "source": [
    "import pysurfline\n",
    "\n",
    "spot_list = [\n",
    "    (\"584204204e65fad6a770961b\", \"台東金樽\"),\n",
    "    (\"584204204e65fad6a77094c3\", \"宜蘭烏石港\"),\n",
    "    (\"584204204e65fad6a77094d2\", \"恆春南灣\"),\n",
    "    (\"584204204e65fad6a770961d\", \"台東東河\"),\n",
    "    (\"584204204e65fad6a7709057\", \"夏威夷\"),\n",
    "    (\"640a68524eb375ca699e2603\", \"澳洲\"),\n",
    "    (\"5842041f4e65fad6a7708d61\", \"法國大溪地\"),\n",
    "    (\"5842041f4e65fad6a7708d43\", \"印尼峇里島\")\n",
    "]"
   ]
  },
  {
   "cell_type": "code",
   "execution_count": 4,
   "id": "a4818abd-0d8c-4e70-9f8e-1db724d5636b",
   "metadata": {},
   "outputs": [],
   "source": [
    "import pysurfline\n",
    "def fetch_spot_data(spotId, spot_name=None, days=5,intervalHours=3):\n",
    "    spot_forecasts = pysurfline.get_spot_forecasts(\n",
    "        spotId,\n",
    "        days=5,\n",
    "        intervalHours=3,\n",
    "    )\n",
    "\n",
    "    df = spot_forecasts.get_dataframe()\n",
    "    filename = f\"{spot_name}.csv\"\n",
    "    df.to_csv(filename, encoding='utf-8-sig', index=False)\n",
    "    return True\n",
    "\n",
    "def fetch_multiple_spots(spot_list, delay = 2):\n",
    "    successful = 0\n",
    "    failed = 0\n",
    "    for spotId, spot_name in spot_list:\n",
    "        if fetch_spot_data(spotId, spot_name):\n",
    "            successful += 1\n",
    "        else:\n",
    "            failed += 1\n",
    "        if delay > 0:\n",
    "            time.sleep(delay)\n",
    "\n",
    "    print(f\"success: {successful}, fail:{failed}\")"
   ]
  },
  {
   "cell_type": "code",
   "execution_count": 5,
   "id": "d57ca699-1dab-4415-a516-23067ff067a9",
   "metadata": {},
   "outputs": [
    {
     "name": "stdout",
     "output_type": "stream",
     "text": [
      "success: 8, fail:0\n"
     ]
    }
   ],
   "source": [
    "if __name__ == \"__main__\":\n",
    "    fetch_multiple_spots(spot_list)"
   ]
  }
 ],
 "metadata": {
  "kernelspec": {
   "display_name": "Python 3",
   "language": "python",
   "name": "python3"
  },
  "language_info": {
   "codemirror_mode": {
    "name": "ipython",
    "version": 3
   },
   "file_extension": ".py",
   "mimetype": "text/x-python",
   "name": "python",
   "nbconvert_exporter": "python",
   "pygments_lexer": "ipython3",
   "version": "3.12.2"
  }
 },
 "nbformat": 4,
 "nbformat_minor": 5
}
